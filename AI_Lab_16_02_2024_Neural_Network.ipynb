{
  "cells": [
    {
      "cell_type": "code",
      "execution_count": null,
      "id": "25a8fbe8",
      "metadata": {
        "id": "25a8fbe8"
      },
      "outputs": [],
      "source": [
        "import numpy as np"
      ]
    },
    {
      "cell_type": "markdown",
      "id": "ff5b6c60",
      "metadata": {
        "id": "ff5b6c60"
      },
      "source": [
        "# Dot Product : ∑aibi = a1b1 + a2b2 ...... + anbn"
      ]
    },
    {
      "cell_type": "code",
      "execution_count": null,
      "id": "9aee8024",
      "metadata": {
        "id": "9aee8024"
      },
      "outputs": [],
      "source": [
        "# Custom Defined Function\n",
        "\n",
        "def DotPro(a,b):\n",
        "    Sum=0\n",
        "    for i in range(len(a)):\n",
        "        Sum += a[i]*b[i]\n",
        "    return Sum"
      ]
    },
    {
      "cell_type": "markdown",
      "id": "52ac96ec",
      "metadata": {
        "id": "52ac96ec"
      },
      "source": [
        "## Generalize Value"
      ]
    },
    {
      "cell_type": "code",
      "execution_count": null,
      "id": "dc05937f",
      "metadata": {
        "id": "dc05937f",
        "outputId": "c74a60f3-d548-4dec-c205-856dbd0693a6"
      },
      "outputs": [
        {
          "name": "stdout",
          "output_type": "stream",
          "text": [
            "Enter The Number Of Elements In List : 3\n"
          ]
        }
      ],
      "source": [
        "N = int(input(\"Enter The Number Of Elements In List : \"))"
      ]
    },
    {
      "cell_type": "code",
      "execution_count": null,
      "id": "baf0eefb",
      "metadata": {
        "id": "baf0eefb"
      },
      "outputs": [],
      "source": [
        "A = []\n",
        "B = []"
      ]
    },
    {
      "cell_type": "code",
      "execution_count": null,
      "id": "8451369a",
      "metadata": {
        "id": "8451369a",
        "outputId": "c7eed425-352f-4801-dac7-ab4f5c27af32"
      },
      "outputs": [
        {
          "name": "stdout",
          "output_type": "stream",
          "text": [
            "1\n",
            "2\n",
            "3\n"
          ]
        }
      ],
      "source": [
        "for i in range(0,N):\n",
        "    X = int(input())\n",
        "    A.append(X)"
      ]
    },
    {
      "cell_type": "code",
      "execution_count": null,
      "id": "9058a660",
      "metadata": {
        "id": "9058a660",
        "outputId": "6c81b881-5532-4384-c79c-a004844cf8e7"
      },
      "outputs": [
        {
          "name": "stdout",
          "output_type": "stream",
          "text": [
            "2\n",
            "3\n",
            "4\n"
          ]
        }
      ],
      "source": [
        "for i in range(0,N):\n",
        "    X = int(input())\n",
        "    B.append(X)"
      ]
    },
    {
      "cell_type": "code",
      "execution_count": null,
      "id": "a2480b21",
      "metadata": {
        "id": "a2480b21"
      },
      "outputs": [],
      "source": [
        "Dot = DotPro(A,B)"
      ]
    },
    {
      "cell_type": "code",
      "execution_count": null,
      "id": "e87c73eb",
      "metadata": {
        "id": "e87c73eb",
        "outputId": "125be327-b184-4c24-e173-14b3efe19192"
      },
      "outputs": [
        {
          "data": {
            "text/plain": [
              "20"
            ]
          },
          "execution_count": 8,
          "metadata": {},
          "output_type": "execute_result"
        }
      ],
      "source": [
        "Dot"
      ]
    },
    {
      "cell_type": "markdown",
      "id": "36082dd3",
      "metadata": {
        "id": "36082dd3"
      },
      "source": [
        "# Matrix Product"
      ]
    },
    {
      "cell_type": "code",
      "execution_count": null,
      "id": "50e95b64",
      "metadata": {
        "id": "50e95b64"
      },
      "outputs": [],
      "source": [
        "def CrossPro(A,B,C):\n",
        "    for i in range(len(A)):\n",
        "        for j in range(len(B[0])):\n",
        "            for k in range(len(B)):\n",
        "                C[i][j] += A[i][k]*B[k][j]\n",
        "    return C"
      ]
    },
    {
      "cell_type": "code",
      "execution_count": null,
      "id": "84ea7d3b",
      "metadata": {
        "id": "84ea7d3b",
        "outputId": "432ec492-d2a2-4f80-ae67-0e14b58e6445"
      },
      "outputs": [
        {
          "name": "stdout",
          "output_type": "stream",
          "text": [
            "Enter The Number Of Rows: 5\n"
          ]
        }
      ],
      "source": [
        "R = int(input(\"Enter The Number Of Rows: \"))"
      ]
    },
    {
      "cell_type": "code",
      "execution_count": null,
      "id": "ee049fe9",
      "metadata": {
        "id": "ee049fe9",
        "outputId": "d0dff525-7c4f-4e52-dc05-c200a7c5438c"
      },
      "outputs": [
        {
          "name": "stdout",
          "output_type": "stream",
          "text": [
            "Enter The Number Of Columns: 4\n"
          ]
        }
      ],
      "source": [
        "C = int(input(\"Enter The Number Of Columns: \"))"
      ]
    },
    {
      "cell_type": "code",
      "execution_count": null,
      "id": "dc00269f",
      "metadata": {
        "id": "dc00269f"
      },
      "outputs": [],
      "source": [
        "A = []"
      ]
    },
    {
      "cell_type": "code",
      "execution_count": null,
      "id": "1ec1c88c",
      "metadata": {
        "id": "1ec1c88c",
        "outputId": "efa318bd-7ea5-4ee4-b494-c328c0f72458"
      },
      "outputs": [
        {
          "name": "stdout",
          "output_type": "stream",
          "text": [
            "Enter Element [0,0]0.49\n",
            "Enter Element [0,1]0.97\n",
            "Enter Element [0,2]0.53\n",
            "Enter Element [0,3]0.05\n",
            "Enter Element [1,0]0.33\n",
            "Enter Element [1,1]0.65\n",
            "Enter Element [1,2]0.62\n",
            "Enter Element [1,3]0.51\n",
            "Enter Element [2,0]1.00\n",
            "Enter Element [2,1]0.38\n",
            "Enter Element [2,2]0.61\n",
            "Enter Element [2,3]0.45\n",
            "Enter Element [3,0]0.74\n",
            "Enter Element [3,1]0.27\n",
            "Enter Element [3,2]0.64\n",
            "Enter Element [3,3]0.17\n",
            "Enter Element [4,0]0.36\n",
            "Enter Element [4,1]0.17\n",
            "Enter Element [4,2]0.96\n",
            "Enter Element [4,3]0.12\n"
          ]
        }
      ],
      "source": [
        "#Enter Element Rows Wise I.E. Elements Of Row 1 In Sequence Then Of Row 2.....\n",
        "\n",
        "for i in range(0,R):\n",
        "    Temp = []\n",
        "    for j in range(0,C):\n",
        "        Ele = float(input(f\"Enter Element [{i},{j}]\"))\n",
        "        Temp.append(Ele)\n",
        "    A.append(Temp)"
      ]
    },
    {
      "cell_type": "code",
      "execution_count": null,
      "id": "7d1ec460",
      "metadata": {
        "id": "7d1ec460",
        "outputId": "c79076fd-d7ff-4d71-8175-5f990f7a5d23"
      },
      "outputs": [
        {
          "data": {
            "text/plain": [
              "[[0.49, 0.97, 0.53, 0.05],\n",
              " [0.33, 0.65, 0.62, 0.51],\n",
              " [1.0, 0.38, 0.61, 0.45],\n",
              " [0.74, 0.27, 0.64, 0.17],\n",
              " [0.36, 0.17, 0.96, 0.12]]"
            ]
          },
          "execution_count": 75,
          "metadata": {},
          "output_type": "execute_result"
        }
      ],
      "source": [
        "A"
      ]
    },
    {
      "cell_type": "code",
      "execution_count": null,
      "id": "b7f2adb0",
      "metadata": {
        "id": "b7f2adb0",
        "outputId": "c6bbcda4-457f-4f68-c607-fc27f769ff10"
      },
      "outputs": [
        {
          "name": "stdout",
          "output_type": "stream",
          "text": [
            "Enter The Number Of Rows: 4\n"
          ]
        }
      ],
      "source": [
        "R = int(input(\"Enter The Number Of Rows: \"))"
      ]
    },
    {
      "cell_type": "code",
      "execution_count": null,
      "id": "40aa8cc1",
      "metadata": {
        "id": "40aa8cc1",
        "outputId": "dce7b68b-f90f-4bce-c602-a947df83321f"
      },
      "outputs": [
        {
          "name": "stdout",
          "output_type": "stream",
          "text": [
            "Enter The Number Of Columns: 5\n"
          ]
        }
      ],
      "source": [
        "C = int(input(\"Enter The Number Of Columns: \"))"
      ]
    },
    {
      "cell_type": "code",
      "execution_count": null,
      "id": "6c2988a1",
      "metadata": {
        "id": "6c2988a1"
      },
      "outputs": [],
      "source": [
        "B = []"
      ]
    },
    {
      "cell_type": "code",
      "execution_count": null,
      "id": "19c683f5",
      "metadata": {
        "id": "19c683f5",
        "outputId": "cab9e7b7-4666-4768-ebb9-270d80e2ae6c"
      },
      "outputs": [
        {
          "name": "stdout",
          "output_type": "stream",
          "text": [
            "Enter Element [0,0]0.79\n",
            "Enter Element [0,1]0.32\n",
            "Enter Element [0,2]0.68\n",
            "Enter Element [0,3]0.90\n",
            "Enter Element [0,4]0.77\n",
            "Enter Element [1,0]0.18\n",
            "Enter Element [1,1]0.39\n",
            "Enter Element [1,2]0.12\n",
            "Enter Element [1,3]0.93\n",
            "Enter Element [1,4]0.09\n",
            "Enter Element [2,0]0.87\n",
            "Enter Element [2,1]0.42\n",
            "Enter Element [2,2]0.60\n",
            "Enter Element [2,3]0.71\n",
            "Enter Element [2,4]0.12\n",
            "Enter Element [3,0]0.45\n",
            "Enter Element [3,1]0.55\n",
            "Enter Element [3,2]0.40\n",
            "Enter Element [3,3]0.78\n",
            "Enter Element [3,4]0.81\n"
          ]
        }
      ],
      "source": [
        "#Enter Element Rows Wise I.E. Elements Of Row 1 In Sequence Then Of Row 2.....\n",
        "\n",
        "for i in range(0,R):\n",
        "    Temp = []\n",
        "    for j in range(0,C):\n",
        "        Ele = float(input(f\"Enter Element [{i},{j}]\"))\n",
        "        Temp.append(Ele)\n",
        "    B.append(Temp)"
      ]
    },
    {
      "cell_type": "code",
      "execution_count": null,
      "id": "39f181f6",
      "metadata": {
        "id": "39f181f6",
        "outputId": "611e2613-1691-4daf-df27-3ac9b7165ea4"
      },
      "outputs": [
        {
          "data": {
            "text/plain": [
              "[[0.79, 0.32, 0.68, 0.9, 0.77],\n",
              " [0.18, 0.39, 0.12, 0.93, 0.09],\n",
              " [0.87, 0.42, 0.6, 0.71, 0.12],\n",
              " [0.45, 0.55, 0.4, 0.78, 0.81]]"
            ]
          },
          "execution_count": 82,
          "metadata": {},
          "output_type": "execute_result"
        }
      ],
      "source": [
        "B"
      ]
    },
    {
      "cell_type": "code",
      "execution_count": null,
      "id": "c35af4bf",
      "metadata": {
        "id": "c35af4bf"
      },
      "outputs": [],
      "source": [
        "X = []"
      ]
    },
    {
      "cell_type": "code",
      "execution_count": null,
      "id": "d7688099",
      "metadata": {
        "id": "d7688099"
      },
      "outputs": [],
      "source": [
        "for i in range(len(A)):\n",
        "    Temp = []\n",
        "    for j in range(len(B[0])):\n",
        "        Temp.append(0)\n",
        "    X.append(Temp)"
      ]
    },
    {
      "cell_type": "code",
      "execution_count": null,
      "id": "0ad3bead",
      "metadata": {
        "id": "0ad3bead",
        "outputId": "5057f437-6fbf-44d9-f0c6-1e83e05d7bff"
      },
      "outputs": [
        {
          "data": {
            "text/plain": [
              "[[0, 0, 0, 0, 0],\n",
              " [0, 0, 0, 0, 0],\n",
              " [0, 0, 0, 0, 0],\n",
              " [0, 0, 0, 0, 0],\n",
              " [0, 0, 0, 0, 0]]"
            ]
          },
          "execution_count": 85,
          "metadata": {},
          "output_type": "execute_result"
        }
      ],
      "source": [
        "X"
      ]
    },
    {
      "cell_type": "code",
      "execution_count": null,
      "id": "81881801",
      "metadata": {
        "id": "81881801"
      },
      "outputs": [],
      "source": [
        "X = CrossPro(A,B,X)"
      ]
    },
    {
      "cell_type": "code",
      "execution_count": null,
      "id": "a7c988fe",
      "metadata": {
        "id": "a7c988fe",
        "outputId": "ef9411db-4fa0-47f5-8d8b-9e6aa1288754"
      },
      "outputs": [
        {
          "data": {
            "text/plain": [
              "[[1.0453, 0.7852, 0.7876000000000001, 1.7584, 0.5687],\n",
              " [1.1466, 0.8999999999999999, 0.8784000000000001, 1.7395, 0.8001],\n",
              " [1.5916000000000001, 0.9719, 1.2716, 2.0375, 1.2419000000000002],\n",
              " [1.2665, 0.7044, 0.9876, 1.5041, 0.8086],\n",
              " [1.2042, 0.6507000000000001, 0.8892, 1.2572999999999999, 0.5048999999999999]]"
            ]
          },
          "execution_count": 87,
          "metadata": {},
          "output_type": "execute_result"
        }
      ],
      "source": [
        "X"
      ]
    },
    {
      "cell_type": "markdown",
      "id": "1ebd63d7",
      "metadata": {
        "id": "1ebd63d7"
      },
      "source": [
        "# Transpose"
      ]
    },
    {
      "cell_type": "code",
      "execution_count": null,
      "id": "a821224a",
      "metadata": {
        "id": "a821224a"
      },
      "outputs": [],
      "source": [
        "A3 = []"
      ]
    },
    {
      "cell_type": "code",
      "execution_count": null,
      "id": "5714ce80",
      "metadata": {
        "id": "5714ce80",
        "outputId": "f26d78ce-4b14-49f6-d829-1a3e5ea66de4"
      },
      "outputs": [
        {
          "name": "stdout",
          "output_type": "stream",
          "text": [
            "Enter The Number Of Rows,Cols: 3\n"
          ]
        }
      ],
      "source": [
        "N3 = int(input(\"Enter The Number Of Rows,Cols: \"))"
      ]
    },
    {
      "cell_type": "code",
      "execution_count": null,
      "id": "a4875964",
      "metadata": {
        "id": "a4875964",
        "outputId": "e6b6b948-261a-4943-8d9f-c93773b71bf6"
      },
      "outputs": [
        {
          "name": "stdout",
          "output_type": "stream",
          "text": [
            "Enter Element [0,0]1\n",
            "Enter Element [0,1]2\n",
            "Enter Element [0,2]3\n",
            "Enter Element [1,0]4\n",
            "Enter Element [1,1]5\n",
            "Enter Element [1,2]6\n",
            "Enter Element [2,0]7\n",
            "Enter Element [2,1]8\n",
            "Enter Element [2,2]9\n"
          ]
        }
      ],
      "source": [
        "for i in range(N3):\n",
        "    Temp = []\n",
        "    for j in range(N3):\n",
        "        Ele = int(input(f\"Enter Element [{i},{j}]\"))\n",
        "        Temp.append(Ele)\n",
        "    A3.append(Temp)"
      ]
    },
    {
      "cell_type": "code",
      "execution_count": null,
      "id": "283db83e",
      "metadata": {
        "id": "283db83e"
      },
      "outputs": [],
      "source": [
        "A3T = []"
      ]
    },
    {
      "cell_type": "code",
      "execution_count": null,
      "id": "79e1b29a",
      "metadata": {
        "id": "79e1b29a"
      },
      "outputs": [],
      "source": [
        "for i in range(N3):\n",
        "    Temp = []\n",
        "    for j in range(N3):\n",
        "        Temp.append(0)\n",
        "    A3T.append(Temp)"
      ]
    },
    {
      "cell_type": "code",
      "execution_count": null,
      "id": "0f71156d",
      "metadata": {
        "id": "0f71156d",
        "outputId": "ea97ac08-c1ca-45a3-df97-eab4a43ce0f4"
      },
      "outputs": [
        {
          "data": {
            "text/plain": [
              "[[0, 0, 0], [0, 0, 0], [0, 0, 0]]"
            ]
          },
          "execution_count": 125,
          "metadata": {},
          "output_type": "execute_result"
        }
      ],
      "source": [
        "A3T"
      ]
    },
    {
      "cell_type": "code",
      "execution_count": null,
      "id": "5ee94b49",
      "metadata": {
        "id": "5ee94b49"
      },
      "outputs": [],
      "source": [
        "for i in range(N3):\n",
        "    for j in range(N3):\n",
        "        A3T[i][j] = A3[j][i]"
      ]
    },
    {
      "cell_type": "code",
      "execution_count": null,
      "id": "ba9c4783",
      "metadata": {
        "id": "ba9c4783",
        "outputId": "8a6b002a-35c4-4515-af67-b65a45ae1887"
      },
      "outputs": [
        {
          "data": {
            "text/plain": [
              "[[1, 4, 7], [2, 5, 8], [3, 6, 9]]"
            ]
          },
          "execution_count": 127,
          "metadata": {},
          "output_type": "execute_result"
        }
      ],
      "source": [
        "A3T"
      ]
    },
    {
      "cell_type": "code",
      "execution_count": null,
      "id": "c60ae834",
      "metadata": {
        "id": "c60ae834",
        "outputId": "eb660a07-14f9-4c1a-90a0-9559b35c2455"
      },
      "outputs": [
        {
          "data": {
            "text/plain": [
              "[[1, 2, 3], [4, 5, 6], [7, 8, 9]]"
            ]
          },
          "execution_count": 128,
          "metadata": {},
          "output_type": "execute_result"
        }
      ],
      "source": [
        "A3"
      ]
    },
    {
      "cell_type": "markdown",
      "id": "2501512e",
      "metadata": {
        "id": "2501512e"
      },
      "source": [
        "# MultiPerceptron"
      ]
    },
    {
      "cell_type": "code",
      "execution_count": null,
      "id": "df2e9d0c",
      "metadata": {
        "id": "df2e9d0c"
      },
      "outputs": [],
      "source": [
        "Inputs = [1,2,3,2.5]\n",
        "W1 = [0.3,0.5,-0.4,2]\n",
        "W2 = [0.4,-0.82,0.37,-0.3]\n",
        "W3 = [-0.34,-0.33,0.28,0.90]\n",
        "Bias1 = 3\n",
        "Bias2 = 4\n",
        "Bias3 = 0.7"
      ]
    },
    {
      "cell_type": "code",
      "execution_count": null,
      "id": "b7348eb3",
      "metadata": {
        "id": "b7348eb3"
      },
      "outputs": [],
      "source": [
        "P1 = DotPro(Inputs,W1)+Bias1\n",
        "P2 = DotPro(Inputs,W2)+Bias2\n",
        "P3 = DotPro(Inputs,W3)+Bias3"
      ]
    },
    {
      "cell_type": "code",
      "execution_count": null,
      "id": "943d6ba6",
      "metadata": {
        "id": "943d6ba6"
      },
      "outputs": [],
      "source": [
        "Final = P1+P2+P3"
      ]
    },
    {
      "cell_type": "code",
      "execution_count": null,
      "id": "d865a2c6",
      "metadata": {
        "id": "d865a2c6",
        "outputId": "98670fdc-cab3-4650-e13a-f4d1876b31b5"
      },
      "outputs": [
        {
          "data": {
            "text/plain": [
              "14.009999999999998"
            ]
          },
          "execution_count": 144,
          "metadata": {},
          "output_type": "execute_result"
        }
      ],
      "source": [
        "Final"
      ]
    }
  ],
  "metadata": {
    "kernelspec": {
      "display_name": "Python 3 (ipykernel)",
      "language": "python",
      "name": "python3"
    },
    "language_info": {
      "codemirror_mode": {
        "name": "ipython",
        "version": 3
      },
      "file_extension": ".py",
      "mimetype": "text/x-python",
      "name": "python",
      "nbconvert_exporter": "python",
      "pygments_lexer": "ipython3",
      "version": "3.10.2"
    },
    "colab": {
      "provenance": []
    }
  },
  "nbformat": 4,
  "nbformat_minor": 5
}